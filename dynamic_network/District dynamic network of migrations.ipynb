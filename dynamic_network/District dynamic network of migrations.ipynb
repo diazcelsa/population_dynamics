{
 "cells": [
  {
   "cell_type": "markdown",
   "metadata": {},
   "source": [
    "# Madrid districts dynamic network of migrations (2004-2017)"
   ]
  },
  {
   "cell_type": "code",
   "execution_count": 1,
   "metadata": {},
   "outputs": [],
   "source": [
    "import pandas as pd\n",
    "import numpy as np\n",
    "from sklearn.preprocessing import MinMaxScaler"
   ]
  },
  {
   "cell_type": "code",
   "execution_count": 2,
   "metadata": {},
   "outputs": [],
   "source": [
    "migrations_nodes = pd.read_csv(\"./data/migrations_degree_madrid.csv\")\n",
    "migrations_edges = pd.read_csv(\"./data/migrations_complete_madrid.csv\")"
   ]
  },
  {
   "cell_type": "code",
   "execution_count": 3,
   "metadata": {},
   "outputs": [],
   "source": [
    "# We will remove internal migrations, external migrations and unknown\n",
    "migrations_edges = migrations_edges[migrations_edges[\"origin\"] != migrations_edges[\"destination\"]]\n",
    "migrations_edges = migrations_edges[(migrations_edges[\"origin\"] != \"external\") & \\\n",
    "                                    (migrations_edges[\"destination\"] != \"external\")]\n",
    "migrations_edges = migrations_edges.dropna()"
   ]
  },
  {
   "cell_type": "code",
   "execution_count": 4,
   "metadata": {},
   "outputs": [],
   "source": [
    "net_migrations_edges = migrations_edges.merge(migrations_edges, left_on=[\"year\",\"origin\",\"destination\"],\n",
    "                       right_on=[\"year\",\"destination\",\"origin\"])"
   ]
  },
  {
   "cell_type": "code",
   "execution_count": 5,
   "metadata": {},
   "outputs": [],
   "source": [
    "net_migrations_edges[\"net_migrations\"] = net_migrations_edges[\"count_x\"] - net_migrations_edges[\"count_y\"]\n",
    "net_migrations_edges = net_migrations_edges[net_migrations_edges[\"net_migrations\"] > 0].loc[:,(\"origin_x\",\n",
    "                                \"destination_x\",\"year\",\"net_migrations\")].rename(columns={\"origin_x\":\"origin\",\n",
    "                                                                                         \"destination_x\":\"destination\"})"
   ]
  },
  {
   "cell_type": "code",
   "execution_count": 6,
   "metadata": {},
   "outputs": [],
   "source": [
    "node_modularity_class = {'Arganzuela':\"middle_centre\", 'Barajas':\"high_suburbs\", 'Carabanchel':\"low_suburbs\", \n",
    " 'Centro':\"middle_centre\", 'Chamartín':\"high_centre\",\n",
    "       'Chamberí':\"high_centre\", 'Ciudad Lineal':\"high_suburbs\", \n",
    " 'Fuencarral - El Pardo':\"high_suburbs\", 'Hortaleza':\"high_suburbs\",\n",
    "       'Latina':\"middle_centre\", 'Moncloa - Aravaca':\"high_suburbs\", \n",
    " 'Moratalaz':\"middle_suburbs\", 'Puente de Vallecas':\"low_suburbs\",\n",
    "       'Retiro':\"high_centre\", 'Salamanca':\"high_centre\", \n",
    " 'San Blas - Canillejas':\"middle_suburbs\", 'Tetuán':\"middle_centre\", \n",
    " 'Usera':\"low_suburbs\",'Vicálvaro':\"low_suburbs\", 'Villa de Vallecas':\"low_suburbs\", 'Villaverde':\"low_suburbs\"}"
   ]
  },
  {
   "cell_type": "markdown",
   "metadata": {},
   "source": [
    "### Build nodes dataset"
   ]
  },
  {
   "cell_type": "code",
   "execution_count": 7,
   "metadata": {},
   "outputs": [],
   "source": [
    "node_ids = dict(zip(list(node_modularity_class.keys()), np.arange(len(list(node_modularity_class.keys())))))\n",
    "nodes_data = pd.DataFrame.from_dict(node_ids, orient=\"index\").reset_index().rename(columns={\"index\":\"label\",0:\"id\"})\n",
    "nodes_data[\"Class\"] = nodes_data[\"label\"].apply(lambda x: node_modularity_class[x])\n",
    "nodes_data.to_csv(\"./data/nodes_data.csv\", index=False, encoding=\"utf-8\")"
   ]
  },
  {
   "cell_type": "markdown",
   "metadata": {},
   "source": [
    "### Build edges dataset"
   ]
  },
  {
   "cell_type": "code",
   "execution_count": 8,
   "metadata": {},
   "outputs": [],
   "source": [
    "net_migrations_edges[\"source\"] = net_migrations_edges[\"origin\"].apply(lambda x: node_ids[x])\n",
    "net_migrations_edges[\"target\"] = net_migrations_edges[\"destination\"].apply(lambda x: node_ids[x])\n",
    "net_migrations_edges[\"type\"] = \"directed\"\n",
    "net_migrations_edges[\"start\"] = net_migrations_edges[\"year\"]\n",
    "net_migrations_edges[\"end\"] = net_migrations_edges[\"year\"]+1\n",
    "mmscaler = MinMaxScaler()\n",
    "net_migrations_edges[\"weights\"] = mmscaler.fit_transform(net_migrations_edges[[\"net_migrations\"]])"
   ]
  },
  {
   "cell_type": "code",
   "execution_count": 9,
   "metadata": {},
   "outputs": [],
   "source": [
    "net_migrations_edges = net_migrations_edges.loc[:,(\"source\",\"target\",\"type\",\"start\",\"end\",\"weights\")]\\\n",
    "                                   .to_csv(\"./data/edges_data.csv\", index=False, encoding=\"utf-8\")"
   ]
  },
  {
   "cell_type": "code",
   "execution_count": null,
   "metadata": {},
   "outputs": [],
   "source": []
  },
  {
   "cell_type": "code",
   "execution_count": null,
   "metadata": {},
   "outputs": [],
   "source": []
  }
 ],
 "metadata": {
  "kernelspec": {
   "display_name": "Python 3",
   "language": "python",
   "name": "python3"
  },
  "language_info": {
   "codemirror_mode": {
    "name": "ipython",
    "version": 3
   },
   "file_extension": ".py",
   "mimetype": "text/x-python",
   "name": "python",
   "nbconvert_exporter": "python",
   "pygments_lexer": "ipython3",
   "version": "3.6.2"
  }
 },
 "nbformat": 4,
 "nbformat_minor": 2
}
