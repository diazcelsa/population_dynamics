{
 "cells": [
  {
   "cell_type": "markdown",
   "metadata": {},
   "source": [
    "# Build migration flow diagram between districts in Madrid\n",
    "\n",
    "Complete the dataset of migration matrix between districts by considering total number of inhabitants per year."
   ]
  },
  {
   "cell_type": "code",
   "execution_count": 17,
   "metadata": {},
   "outputs": [],
   "source": [
    "import pandas as pd\n",
    "import warnings\n",
    "warnings.filterwarnings(\"ignore\")"
   ]
  },
  {
   "cell_type": "code",
   "execution_count": 18,
   "metadata": {},
   "outputs": [],
   "source": [
    "# Load data source\n",
    "census = pd.read_csv(\"./data/complete_clean_census_madrid.csv\")\n",
    "census_total = census[census[\"Unnamed: 0\"]==\"Total\"].loc[:,[\"district\",\"year\",\"total\"]]\n",
    "\n",
    "migrations = pd.read_csv(\"./data/madrid_internal_migrations.csv\")"
   ]
  },
  {
   "cell_type": "markdown",
   "metadata": {},
   "source": [
    "### Calculate district degrees"
   ]
  },
  {
   "cell_type": "code",
   "execution_count": 19,
   "metadata": {},
   "outputs": [],
   "source": [
    "# Calculate inner degree per district/year\n",
    "inner_degree = migrations.groupby([\"destination\",\"year\"], as_index=False).sum().rename(columns={\"count\":\"d_inner\",\n",
    "                                                                                        \"destination\":\"district\"})\n",
    "outer_degree = migrations.groupby([\"origin\",\"year\"], as_index=False).sum().rename(columns={\"count\":\"d_outer\",\n",
    "                                                                                        \"origin\":\"district\"})\n",
    "\n",
    "# Build complete migration set\n",
    "mig_move = census_total.merge(inner_degree, left_on=[\"district\",\"year\"], right_on=[\"district\",\"year\"])\n",
    "mig_move = mig_move.merge(outer_degree, left_on=[\"district\",\"year\"], right_on=[\"district\",\"year\"])\n",
    "mig_move = mig_move.sort_values(by=\"year\").reset_index(drop=True)"
   ]
  },
  {
   "cell_type": "markdown",
   "metadata": {},
   "source": [
    "### Calculate flows external -> district and district -> external"
   ]
  },
  {
   "cell_type": "code",
   "execution_count": 20,
   "metadata": {},
   "outputs": [],
   "source": [
    "results = []\n",
    "for i, df in mig_move.groupby([\"district\"]):\n",
    "    balance = []\n",
    "    balance.append(0)\n",
    "    years = df.year.tolist()\n",
    "    for year in years[1:]:\n",
    "        initial = df[df[\"year\"] == year-1][\"total\"].values[0]\n",
    "        inner = df[df[\"year\"] == year][\"d_inner\"].values[0]\n",
    "        outer = df[df[\"year\"] == year][\"d_outer\"].values[0]\n",
    "        total = df[df[\"year\"] == year][\"total\"].values[0]\n",
    "        missing = total - initial + inner - outer\n",
    "        balance.append(missing)\n",
    "    df.loc[:,\"balance\"] = balance\n",
    "    results.append(df)\n",
    "    \n",
    "results_df = pd.concat(results)\n",
    "results_df[\"balance_positive\"] = results_df[\"balance\"].apply(lambda x: 0 if x < 0 else x)\n",
    "results_df[\"balance_negative\"] = results_df[\"balance\"].apply(lambda x: 0 if x > 0 else x*(-1))\n",
    "\n",
    "results_df.to_csv(\"./data/migrations_degree_madrid.csv\", encoding=\"utf-8\", index=False)"
   ]
  },
  {
   "cell_type": "markdown",
   "metadata": {},
   "source": [
    "###### Build external - district vs district - external interactions"
   ]
  },
  {
   "cell_type": "code",
   "execution_count": 21,
   "metadata": {},
   "outputs": [],
   "source": [
    "external_dist = results_df.loc[:,(\"district\",\"year\",\"balance_positive\")].rename(columns={\"district\":\"destination\",\n",
    "                                                                                        \"balance_positive\":\"count\"})\n",
    "dist_external = results_df.loc[:,(\"district\",\"year\",\"balance_negative\")].rename(columns={\"district\":\"origin\",\n",
    "                                                                                        \"balance_negative\":\"count\"})\n",
    "dist_external[\"destination\"] = \"external\"\n",
    "dist_external[\"origin\"] = \"external\"\n",
    "\n",
    "migrations_complete = pd.concat([migrations, external_dist, dist_external])\n",
    "migrations_complete.to_csv(\"./data/migrations_complete_madrid.csv\", encoding=\"utf-8\", index=False)"
   ]
  },
  {
   "cell_type": "code",
   "execution_count": 22,
   "metadata": {},
   "outputs": [],
   "source": [
    "# Drop internal migrations since they are not of our interest\n",
    "migrations_complete = migrations_complete[migrations_complete[\"destination\"] != migrations_complete[\"origin\"]]\n",
    "migrations_complete = migrations_complete.dropna()"
   ]
  },
  {
   "cell_type": "code",
   "execution_count": 23,
   "metadata": {},
   "outputs": [],
   "source": [
    "migrations_complete.origin = migrations_complete.origin.replace(\"Fuencarral-El Pardo\",\"Fuencarral - El Pardo\")\n",
    "migrations_complete.origin = migrations_complete.origin.replace(\"Moncloa-Aravaca\",\"Moncloa - Aravaca\")\n",
    "migrations_complete.origin = migrations_complete.origin.replace(\"San Blas-Canillejas\",\"San Blas - Canillejas\")\n",
    "migrations_complete.destination = migrations_complete.destination.replace(\"Fuencarral- El Pardo\",\"Fuencarral - El Pardo\")\n",
    "migrations_complete.destination = migrations_complete.destination.replace(\"Moncloa- Aravaca\",\"Moncloa - Aravaca\")\n",
    "migrations_complete.destination = migrations_complete.destination.replace(' Usera','Usera')\n",
    "migrations_complete.destination = migrations_complete.destination.replace('San Blas- Canillejas','San Blas - Canillejas')"
   ]
  },
  {
   "cell_type": "code",
   "execution_count": 24,
   "metadata": {},
   "outputs": [],
   "source": [
    "node_modularity_class = {'Arganzuela':\"middle_centre\", 'Barajas':\"high_suburbs\", 'Carabanchel':\"low_suburbs\", \n",
    " 'Centro':\"middle_centre\", 'Chamartín':\"high_centre\",\n",
    "       'Chamberí':\"high_centre\", 'Ciudad Lineal':\"high_suburbs\", \n",
    " 'Fuencarral - El Pardo':\"high_suburbs\", 'Hortaleza':\"high_suburbs\",\n",
    "       'Latina':\"middle_centre\", 'Moncloa - Aravaca':\"high_suburbs\", \n",
    " 'Moratalaz':\"middle_suburbs\", 'Puente de Vallecas':\"low_suburbs\",\n",
    "       'Retiro':\"high_centre\", 'Salamanca':\"high_centre\", \n",
    " 'San Blas - Canillejas':\"middle_suburbs\", 'Tetuán':\"middle_centre\", \n",
    " 'Usera':\"low_suburbs\",'Vicálvaro':\"low_suburbs\", 'Villa de Vallecas':\"low_suburbs\", \n",
    "                         'Villaverde':\"low_suburbs\",\"external\":\"external\"}"
   ]
  },
  {
   "cell_type": "code",
   "execution_count": 25,
   "metadata": {},
   "outputs": [],
   "source": [
    "migrations_complete[\"origin\"] = migrations_complete[\"origin\"].apply(lambda x: node_modularity_class[x])\n",
    "migrations_complete[\"destination\"] = migrations_complete[\"destination\"].apply(lambda x: node_modularity_class[x])"
   ]
  },
  {
   "cell_type": "code",
   "execution_count": 43,
   "metadata": {},
   "outputs": [],
   "source": [
    "# Add total number of inhabitants in 2003-4\n",
    "sel_census = census_total[census_total[\"year\"]==2004]\n",
    "sel_census[\"district_class\"] = sel_census[\"district\"].apply(lambda x: node_modularity_class[x])\n",
    "sel_census = sel_census.loc[:,(\"district_class\",\"total\")].groupby([\"district_class\"], as_index=False).sum()\n",
    "sel_census[\"origin\"] = sel_census[\"district_class\"]\n",
    "sel_census = sel_census.rename(columns={\"total\":\"count\",\"district_class\":\"destination\"})\n",
    "sel_census[\"year\"] = 2003"
   ]
  },
  {
   "cell_type": "code",
   "execution_count": 50,
   "metadata": {},
   "outputs": [],
   "source": [
    "migrations_complete_ = pd.concat([migrations_complete,sel_census]).reset_index(drop=True)"
   ]
  },
  {
   "cell_type": "code",
   "execution_count": 58,
   "metadata": {},
   "outputs": [],
   "source": [
    "migrations_complete_ = migrations_complete_.sort_values(by=\"year\")"
   ]
  },
  {
   "cell_type": "code",
   "execution_count": 59,
   "metadata": {},
   "outputs": [],
   "source": [
    "years = migrations_complete_.year.unique().tolist()"
   ]
  },
  {
   "cell_type": "code",
   "execution_count": 60,
   "metadata": {},
   "outputs": [],
   "source": [
    "all_year = []\n",
    "first = True\n",
    "for y in years:\n",
    "    df = migrations_complete_[migrations_complete_.year == y].copy()\n",
    "    df['migration_unit'] = (df['count'] / 100).round().astype(int)\n",
    "    l = []\n",
    "    for idx, row in df.iterrows():\n",
    "        for i in range(row['migration_unit']):\n",
    "            l.append({y:row['origin'], y+1:row['destination']})\n",
    "    df2 = pd.DataFrame().from_records(l)\n",
    "    \n",
    "    df2[f'i_{y+1}'] = 1\n",
    "    df2[f'i_{y+1}'] = df2.groupby(y+1)[f'i_{y+1}'].cumsum()\n",
    "    df2[f'i_{y}'] = 1\n",
    "    df2[f'i_{y}'] = df2.groupby(y)[f'i_{y}'].cumsum()\n",
    "    all_year.append(df2)\n",
    "    if first:\n",
    "        alldf = df2\n",
    "        first = False\n",
    "    else:\n",
    "        alldf = alldf.merge(df2, left_on=[y, f'i_{y}'], right_on=[y, f'i_{y}'], how=\"outer\")\n",
    "        w = alldf[y+1].isna()\n",
    "        alldf.loc[w, y+1] = alldf.loc[w, y]\n",
    "        alldf[f'i_{y+1}'] = 1\n",
    "        alldf[f'i_{y+1}'] = alldf.groupby(y+1)[f'i_{y+1}'].cumsum()"
   ]
  },
  {
   "cell_type": "code",
   "execution_count": 61,
   "metadata": {},
   "outputs": [],
   "source": [
    "test = alldf[years].fillna(method='backfill', axis=1)\n",
    "sr = test.apply(lambda sr: sr.value_counts()).max(1)\n",
    "sr = sr[sr < 20]\n",
    "rename = {name: 'other' for name in sr.index}"
   ]
  },
  {
   "cell_type": "code",
   "execution_count": 62,
   "metadata": {},
   "outputs": [],
   "source": [
    "test.to_csv(\"./data/migrations_madrid.csv\", index=False, encoding=\"utf-8\")"
   ]
  },
  {
   "cell_type": "code",
   "execution_count": null,
   "metadata": {},
   "outputs": [],
   "source": []
  }
 ],
 "metadata": {
  "kernelspec": {
   "display_name": "Python 3",
   "language": "python",
   "name": "python3"
  },
  "language_info": {
   "codemirror_mode": {
    "name": "ipython",
    "version": 3
   },
   "file_extension": ".py",
   "mimetype": "text/x-python",
   "name": "python",
   "nbconvert_exporter": "python",
   "pygments_lexer": "ipython3",
   "version": "3.6.2"
  }
 },
 "nbformat": 4,
 "nbformat_minor": 2
}
